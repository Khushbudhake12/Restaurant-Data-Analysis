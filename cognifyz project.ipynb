{
 "cells": [
  {
   "cell_type": "code",
   "execution_count": 2,
   "id": "a75d9fa1",
   "metadata": {},
   "outputs": [
    {
     "name": "stderr",
     "output_type": "stream",
     "text": [
      "C:\\Users\\Lenovo\\anaconda3\\Lib\\site-packages\\pandas\\core\\arrays\\masked.py:60: UserWarning: Pandas requires version '1.3.6' or newer of 'bottleneck' (version '1.3.5' currently installed).\n",
      "  from pandas.core import (\n"
     ]
    }
   ],
   "source": [
    "import pandas as pd\n",
    "import matplotlib.pyplot as plt\n",
    "import seaborn as sns"
   ]
  },
  {
   "cell_type": "code",
   "execution_count": 4,
   "id": "b23174e3",
   "metadata": {},
   "outputs": [
    {
     "data": {
      "text/html": [
       "<div>\n",
       "<style scoped>\n",
       "    .dataframe tbody tr th:only-of-type {\n",
       "        vertical-align: middle;\n",
       "    }\n",
       "\n",
       "    .dataframe tbody tr th {\n",
       "        vertical-align: top;\n",
       "    }\n",
       "\n",
       "    .dataframe thead th {\n",
       "        text-align: right;\n",
       "    }\n",
       "</style>\n",
       "<table border=\"1\" class=\"dataframe\">\n",
       "  <thead>\n",
       "    <tr style=\"text-align: right;\">\n",
       "      <th></th>\n",
       "      <th>Restaurant ID</th>\n",
       "      <th>Restaurant Name</th>\n",
       "      <th>Country Code</th>\n",
       "      <th>City</th>\n",
       "      <th>Address</th>\n",
       "      <th>Locality</th>\n",
       "      <th>Locality Verbose</th>\n",
       "      <th>Longitude</th>\n",
       "      <th>Latitude</th>\n",
       "      <th>Cuisines</th>\n",
       "      <th>...</th>\n",
       "      <th>Currency</th>\n",
       "      <th>Has Table booking</th>\n",
       "      <th>Has Online delivery</th>\n",
       "      <th>Is delivering now</th>\n",
       "      <th>Switch to order menu</th>\n",
       "      <th>Price range</th>\n",
       "      <th>Aggregate rating</th>\n",
       "      <th>Rating color</th>\n",
       "      <th>Rating text</th>\n",
       "      <th>Votes</th>\n",
       "    </tr>\n",
       "  </thead>\n",
       "  <tbody>\n",
       "    <tr>\n",
       "      <th>0</th>\n",
       "      <td>6317637</td>\n",
       "      <td>Le Petit Souffle</td>\n",
       "      <td>162</td>\n",
       "      <td>Makati City</td>\n",
       "      <td>Third Floor, Century City Mall, Kalayaan Avenu...</td>\n",
       "      <td>Century City Mall, Poblacion, Makati City</td>\n",
       "      <td>Century City Mall, Poblacion, Makati City, Mak...</td>\n",
       "      <td>121.027535</td>\n",
       "      <td>14.565443</td>\n",
       "      <td>French, Japanese, Desserts</td>\n",
       "      <td>...</td>\n",
       "      <td>Botswana Pula(P)</td>\n",
       "      <td>Yes</td>\n",
       "      <td>No</td>\n",
       "      <td>No</td>\n",
       "      <td>No</td>\n",
       "      <td>3</td>\n",
       "      <td>4.8</td>\n",
       "      <td>Dark Green</td>\n",
       "      <td>Excellent</td>\n",
       "      <td>314</td>\n",
       "    </tr>\n",
       "    <tr>\n",
       "      <th>1</th>\n",
       "      <td>6304287</td>\n",
       "      <td>Izakaya Kikufuji</td>\n",
       "      <td>162</td>\n",
       "      <td>Makati City</td>\n",
       "      <td>Little Tokyo, 2277 Chino Roces Avenue, Legaspi...</td>\n",
       "      <td>Little Tokyo, Legaspi Village, Makati City</td>\n",
       "      <td>Little Tokyo, Legaspi Village, Makati City, Ma...</td>\n",
       "      <td>121.014101</td>\n",
       "      <td>14.553708</td>\n",
       "      <td>Japanese</td>\n",
       "      <td>...</td>\n",
       "      <td>Botswana Pula(P)</td>\n",
       "      <td>Yes</td>\n",
       "      <td>No</td>\n",
       "      <td>No</td>\n",
       "      <td>No</td>\n",
       "      <td>3</td>\n",
       "      <td>4.5</td>\n",
       "      <td>Dark Green</td>\n",
       "      <td>Excellent</td>\n",
       "      <td>591</td>\n",
       "    </tr>\n",
       "    <tr>\n",
       "      <th>2</th>\n",
       "      <td>6300002</td>\n",
       "      <td>Heat - Edsa Shangri-La</td>\n",
       "      <td>162</td>\n",
       "      <td>Mandaluyong City</td>\n",
       "      <td>Edsa Shangri-La, 1 Garden Way, Ortigas, Mandal...</td>\n",
       "      <td>Edsa Shangri-La, Ortigas, Mandaluyong City</td>\n",
       "      <td>Edsa Shangri-La, Ortigas, Mandaluyong City, Ma...</td>\n",
       "      <td>121.056831</td>\n",
       "      <td>14.581404</td>\n",
       "      <td>Seafood, Asian, Filipino, Indian</td>\n",
       "      <td>...</td>\n",
       "      <td>Botswana Pula(P)</td>\n",
       "      <td>Yes</td>\n",
       "      <td>No</td>\n",
       "      <td>No</td>\n",
       "      <td>No</td>\n",
       "      <td>4</td>\n",
       "      <td>4.4</td>\n",
       "      <td>Green</td>\n",
       "      <td>Very Good</td>\n",
       "      <td>270</td>\n",
       "    </tr>\n",
       "    <tr>\n",
       "      <th>3</th>\n",
       "      <td>6318506</td>\n",
       "      <td>Ooma</td>\n",
       "      <td>162</td>\n",
       "      <td>Mandaluyong City</td>\n",
       "      <td>Third Floor, Mega Fashion Hall, SM Megamall, O...</td>\n",
       "      <td>SM Megamall, Ortigas, Mandaluyong City</td>\n",
       "      <td>SM Megamall, Ortigas, Mandaluyong City, Mandal...</td>\n",
       "      <td>121.056475</td>\n",
       "      <td>14.585318</td>\n",
       "      <td>Japanese, Sushi</td>\n",
       "      <td>...</td>\n",
       "      <td>Botswana Pula(P)</td>\n",
       "      <td>No</td>\n",
       "      <td>No</td>\n",
       "      <td>No</td>\n",
       "      <td>No</td>\n",
       "      <td>4</td>\n",
       "      <td>4.9</td>\n",
       "      <td>Dark Green</td>\n",
       "      <td>Excellent</td>\n",
       "      <td>365</td>\n",
       "    </tr>\n",
       "    <tr>\n",
       "      <th>4</th>\n",
       "      <td>6314302</td>\n",
       "      <td>Sambo Kojin</td>\n",
       "      <td>162</td>\n",
       "      <td>Mandaluyong City</td>\n",
       "      <td>Third Floor, Mega Atrium, SM Megamall, Ortigas...</td>\n",
       "      <td>SM Megamall, Ortigas, Mandaluyong City</td>\n",
       "      <td>SM Megamall, Ortigas, Mandaluyong City, Mandal...</td>\n",
       "      <td>121.057508</td>\n",
       "      <td>14.584450</td>\n",
       "      <td>Japanese, Korean</td>\n",
       "      <td>...</td>\n",
       "      <td>Botswana Pula(P)</td>\n",
       "      <td>Yes</td>\n",
       "      <td>No</td>\n",
       "      <td>No</td>\n",
       "      <td>No</td>\n",
       "      <td>4</td>\n",
       "      <td>4.8</td>\n",
       "      <td>Dark Green</td>\n",
       "      <td>Excellent</td>\n",
       "      <td>229</td>\n",
       "    </tr>\n",
       "    <tr>\n",
       "      <th>...</th>\n",
       "      <td>...</td>\n",
       "      <td>...</td>\n",
       "      <td>...</td>\n",
       "      <td>...</td>\n",
       "      <td>...</td>\n",
       "      <td>...</td>\n",
       "      <td>...</td>\n",
       "      <td>...</td>\n",
       "      <td>...</td>\n",
       "      <td>...</td>\n",
       "      <td>...</td>\n",
       "      <td>...</td>\n",
       "      <td>...</td>\n",
       "      <td>...</td>\n",
       "      <td>...</td>\n",
       "      <td>...</td>\n",
       "      <td>...</td>\n",
       "      <td>...</td>\n",
       "      <td>...</td>\n",
       "      <td>...</td>\n",
       "      <td>...</td>\n",
       "    </tr>\n",
       "    <tr>\n",
       "      <th>9546</th>\n",
       "      <td>5915730</td>\n",
       "      <td>Naml۱ Gurme</td>\n",
       "      <td>208</td>\n",
       "      <td>��stanbul</td>\n",
       "      <td>Kemanke�� Karamustafa Pa��a Mahallesi, R۱ht۱m ...</td>\n",
       "      <td>Karak�_y</td>\n",
       "      <td>Karak�_y, ��stanbul</td>\n",
       "      <td>28.977392</td>\n",
       "      <td>41.022793</td>\n",
       "      <td>Turkish</td>\n",
       "      <td>...</td>\n",
       "      <td>Turkish Lira(TL)</td>\n",
       "      <td>No</td>\n",
       "      <td>No</td>\n",
       "      <td>No</td>\n",
       "      <td>No</td>\n",
       "      <td>3</td>\n",
       "      <td>4.1</td>\n",
       "      <td>Green</td>\n",
       "      <td>Very Good</td>\n",
       "      <td>788</td>\n",
       "    </tr>\n",
       "    <tr>\n",
       "      <th>9547</th>\n",
       "      <td>5908749</td>\n",
       "      <td>Ceviz A��ac۱</td>\n",
       "      <td>208</td>\n",
       "      <td>��stanbul</td>\n",
       "      <td>Ko��uyolu Mahallesi, Muhittin ��st�_nda�� Cadd...</td>\n",
       "      <td>Ko��uyolu</td>\n",
       "      <td>Ko��uyolu, ��stanbul</td>\n",
       "      <td>29.041297</td>\n",
       "      <td>41.009847</td>\n",
       "      <td>World Cuisine, Patisserie, Cafe</td>\n",
       "      <td>...</td>\n",
       "      <td>Turkish Lira(TL)</td>\n",
       "      <td>No</td>\n",
       "      <td>No</td>\n",
       "      <td>No</td>\n",
       "      <td>No</td>\n",
       "      <td>3</td>\n",
       "      <td>4.2</td>\n",
       "      <td>Green</td>\n",
       "      <td>Very Good</td>\n",
       "      <td>1034</td>\n",
       "    </tr>\n",
       "    <tr>\n",
       "      <th>9548</th>\n",
       "      <td>5915807</td>\n",
       "      <td>Huqqa</td>\n",
       "      <td>208</td>\n",
       "      <td>��stanbul</td>\n",
       "      <td>Kuru�_e��me Mahallesi, Muallim Naci Caddesi, N...</td>\n",
       "      <td>Kuru�_e��me</td>\n",
       "      <td>Kuru�_e��me, ��stanbul</td>\n",
       "      <td>29.034640</td>\n",
       "      <td>41.055817</td>\n",
       "      <td>Italian, World Cuisine</td>\n",
       "      <td>...</td>\n",
       "      <td>Turkish Lira(TL)</td>\n",
       "      <td>No</td>\n",
       "      <td>No</td>\n",
       "      <td>No</td>\n",
       "      <td>No</td>\n",
       "      <td>4</td>\n",
       "      <td>3.7</td>\n",
       "      <td>Yellow</td>\n",
       "      <td>Good</td>\n",
       "      <td>661</td>\n",
       "    </tr>\n",
       "    <tr>\n",
       "      <th>9549</th>\n",
       "      <td>5916112</td>\n",
       "      <td>A���k Kahve</td>\n",
       "      <td>208</td>\n",
       "      <td>��stanbul</td>\n",
       "      <td>Kuru�_e��me Mahallesi, Muallim Naci Caddesi, N...</td>\n",
       "      <td>Kuru�_e��me</td>\n",
       "      <td>Kuru�_e��me, ��stanbul</td>\n",
       "      <td>29.036019</td>\n",
       "      <td>41.057979</td>\n",
       "      <td>Restaurant Cafe</td>\n",
       "      <td>...</td>\n",
       "      <td>Turkish Lira(TL)</td>\n",
       "      <td>No</td>\n",
       "      <td>No</td>\n",
       "      <td>No</td>\n",
       "      <td>No</td>\n",
       "      <td>4</td>\n",
       "      <td>4.0</td>\n",
       "      <td>Green</td>\n",
       "      <td>Very Good</td>\n",
       "      <td>901</td>\n",
       "    </tr>\n",
       "    <tr>\n",
       "      <th>9550</th>\n",
       "      <td>5927402</td>\n",
       "      <td>Walter's Coffee Roastery</td>\n",
       "      <td>208</td>\n",
       "      <td>��stanbul</td>\n",
       "      <td>Cafea��a Mahallesi, Bademalt۱ Sokak, No 21/B, ...</td>\n",
       "      <td>Moda</td>\n",
       "      <td>Moda, ��stanbul</td>\n",
       "      <td>29.026016</td>\n",
       "      <td>40.984776</td>\n",
       "      <td>Cafe</td>\n",
       "      <td>...</td>\n",
       "      <td>Turkish Lira(TL)</td>\n",
       "      <td>No</td>\n",
       "      <td>No</td>\n",
       "      <td>No</td>\n",
       "      <td>No</td>\n",
       "      <td>2</td>\n",
       "      <td>4.0</td>\n",
       "      <td>Green</td>\n",
       "      <td>Very Good</td>\n",
       "      <td>591</td>\n",
       "    </tr>\n",
       "  </tbody>\n",
       "</table>\n",
       "<p>9551 rows × 21 columns</p>\n",
       "</div>"
      ],
      "text/plain": [
       "      Restaurant ID           Restaurant Name  Country Code              City  \\\n",
       "0           6317637          Le Petit Souffle           162       Makati City   \n",
       "1           6304287          Izakaya Kikufuji           162       Makati City   \n",
       "2           6300002    Heat - Edsa Shangri-La           162  Mandaluyong City   \n",
       "3           6318506                      Ooma           162  Mandaluyong City   \n",
       "4           6314302               Sambo Kojin           162  Mandaluyong City   \n",
       "...             ...                       ...           ...               ...   \n",
       "9546        5915730               Naml۱ Gurme           208         ��stanbul   \n",
       "9547        5908749              Ceviz A��ac۱           208         ��stanbul   \n",
       "9548        5915807                     Huqqa           208         ��stanbul   \n",
       "9549        5916112               A���k Kahve           208         ��stanbul   \n",
       "9550        5927402  Walter's Coffee Roastery           208         ��stanbul   \n",
       "\n",
       "                                                Address  \\\n",
       "0     Third Floor, Century City Mall, Kalayaan Avenu...   \n",
       "1     Little Tokyo, 2277 Chino Roces Avenue, Legaspi...   \n",
       "2     Edsa Shangri-La, 1 Garden Way, Ortigas, Mandal...   \n",
       "3     Third Floor, Mega Fashion Hall, SM Megamall, O...   \n",
       "4     Third Floor, Mega Atrium, SM Megamall, Ortigas...   \n",
       "...                                                 ...   \n",
       "9546  Kemanke�� Karamustafa Pa��a Mahallesi, R۱ht۱m ...   \n",
       "9547  Ko��uyolu Mahallesi, Muhittin ��st�_nda�� Cadd...   \n",
       "9548  Kuru�_e��me Mahallesi, Muallim Naci Caddesi, N...   \n",
       "9549  Kuru�_e��me Mahallesi, Muallim Naci Caddesi, N...   \n",
       "9550  Cafea��a Mahallesi, Bademalt۱ Sokak, No 21/B, ...   \n",
       "\n",
       "                                        Locality  \\\n",
       "0      Century City Mall, Poblacion, Makati City   \n",
       "1     Little Tokyo, Legaspi Village, Makati City   \n",
       "2     Edsa Shangri-La, Ortigas, Mandaluyong City   \n",
       "3         SM Megamall, Ortigas, Mandaluyong City   \n",
       "4         SM Megamall, Ortigas, Mandaluyong City   \n",
       "...                                          ...   \n",
       "9546                                    Karak�_y   \n",
       "9547                                   Ko��uyolu   \n",
       "9548                                 Kuru�_e��me   \n",
       "9549                                 Kuru�_e��me   \n",
       "9550                                        Moda   \n",
       "\n",
       "                                       Locality Verbose   Longitude  \\\n",
       "0     Century City Mall, Poblacion, Makati City, Mak...  121.027535   \n",
       "1     Little Tokyo, Legaspi Village, Makati City, Ma...  121.014101   \n",
       "2     Edsa Shangri-La, Ortigas, Mandaluyong City, Ma...  121.056831   \n",
       "3     SM Megamall, Ortigas, Mandaluyong City, Mandal...  121.056475   \n",
       "4     SM Megamall, Ortigas, Mandaluyong City, Mandal...  121.057508   \n",
       "...                                                 ...         ...   \n",
       "9546                                Karak�_y, ��stanbul   28.977392   \n",
       "9547                               Ko��uyolu, ��stanbul   29.041297   \n",
       "9548                             Kuru�_e��me, ��stanbul   29.034640   \n",
       "9549                             Kuru�_e��me, ��stanbul   29.036019   \n",
       "9550                                    Moda, ��stanbul   29.026016   \n",
       "\n",
       "       Latitude                          Cuisines  ...          Currency  \\\n",
       "0     14.565443        French, Japanese, Desserts  ...  Botswana Pula(P)   \n",
       "1     14.553708                          Japanese  ...  Botswana Pula(P)   \n",
       "2     14.581404  Seafood, Asian, Filipino, Indian  ...  Botswana Pula(P)   \n",
       "3     14.585318                   Japanese, Sushi  ...  Botswana Pula(P)   \n",
       "4     14.584450                  Japanese, Korean  ...  Botswana Pula(P)   \n",
       "...         ...                               ...  ...               ...   \n",
       "9546  41.022793                           Turkish  ...  Turkish Lira(TL)   \n",
       "9547  41.009847   World Cuisine, Patisserie, Cafe  ...  Turkish Lira(TL)   \n",
       "9548  41.055817            Italian, World Cuisine  ...  Turkish Lira(TL)   \n",
       "9549  41.057979                   Restaurant Cafe  ...  Turkish Lira(TL)   \n",
       "9550  40.984776                              Cafe  ...  Turkish Lira(TL)   \n",
       "\n",
       "     Has Table booking Has Online delivery Is delivering now  \\\n",
       "0                  Yes                  No                No   \n",
       "1                  Yes                  No                No   \n",
       "2                  Yes                  No                No   \n",
       "3                   No                  No                No   \n",
       "4                  Yes                  No                No   \n",
       "...                ...                 ...               ...   \n",
       "9546                No                  No                No   \n",
       "9547                No                  No                No   \n",
       "9548                No                  No                No   \n",
       "9549                No                  No                No   \n",
       "9550                No                  No                No   \n",
       "\n",
       "     Switch to order menu Price range  Aggregate rating  Rating color  \\\n",
       "0                      No           3               4.8    Dark Green   \n",
       "1                      No           3               4.5    Dark Green   \n",
       "2                      No           4               4.4         Green   \n",
       "3                      No           4               4.9    Dark Green   \n",
       "4                      No           4               4.8    Dark Green   \n",
       "...                   ...         ...               ...           ...   \n",
       "9546                   No           3               4.1         Green   \n",
       "9547                   No           3               4.2         Green   \n",
       "9548                   No           4               3.7        Yellow   \n",
       "9549                   No           4               4.0         Green   \n",
       "9550                   No           2               4.0         Green   \n",
       "\n",
       "     Rating text Votes  \n",
       "0      Excellent   314  \n",
       "1      Excellent   591  \n",
       "2      Very Good   270  \n",
       "3      Excellent   365  \n",
       "4      Excellent   229  \n",
       "...          ...   ...  \n",
       "9546   Very Good   788  \n",
       "9547   Very Good  1034  \n",
       "9548        Good   661  \n",
       "9549   Very Good   901  \n",
       "9550   Very Good   591  \n",
       "\n",
       "[9551 rows x 21 columns]"
      ]
     },
     "execution_count": 4,
     "metadata": {},
     "output_type": "execute_result"
    }
   ],
   "source": [
    "df = pd.read_csv(r'C:\\Users\\Lenovo\\Downloads\\Restaurant Dataset .csv')\n",
    "df"
   ]
  },
  {
   "cell_type": "code",
   "execution_count": 5,
   "id": "a9ddab13",
   "metadata": {},
   "outputs": [
    {
     "data": {
      "text/html": [
       "<div>\n",
       "<style scoped>\n",
       "    .dataframe tbody tr th:only-of-type {\n",
       "        vertical-align: middle;\n",
       "    }\n",
       "\n",
       "    .dataframe tbody tr th {\n",
       "        vertical-align: top;\n",
       "    }\n",
       "\n",
       "    .dataframe thead th {\n",
       "        text-align: right;\n",
       "    }\n",
       "</style>\n",
       "<table border=\"1\" class=\"dataframe\">\n",
       "  <thead>\n",
       "    <tr style=\"text-align: right;\">\n",
       "      <th></th>\n",
       "      <th>Restaurant ID</th>\n",
       "      <th>Country Code</th>\n",
       "      <th>Longitude</th>\n",
       "      <th>Latitude</th>\n",
       "      <th>Average Cost for two</th>\n",
       "      <th>Price range</th>\n",
       "      <th>Aggregate rating</th>\n",
       "      <th>Votes</th>\n",
       "    </tr>\n",
       "  </thead>\n",
       "  <tbody>\n",
       "    <tr>\n",
       "      <th>count</th>\n",
       "      <td>9.551000e+03</td>\n",
       "      <td>9551.000000</td>\n",
       "      <td>9551.000000</td>\n",
       "      <td>9551.000000</td>\n",
       "      <td>9551.000000</td>\n",
       "      <td>9551.000000</td>\n",
       "      <td>9551.000000</td>\n",
       "      <td>9551.000000</td>\n",
       "    </tr>\n",
       "    <tr>\n",
       "      <th>mean</th>\n",
       "      <td>9.051128e+06</td>\n",
       "      <td>18.365616</td>\n",
       "      <td>64.126574</td>\n",
       "      <td>25.854381</td>\n",
       "      <td>1199.210763</td>\n",
       "      <td>1.804837</td>\n",
       "      <td>2.666370</td>\n",
       "      <td>156.909748</td>\n",
       "    </tr>\n",
       "    <tr>\n",
       "      <th>std</th>\n",
       "      <td>8.791521e+06</td>\n",
       "      <td>56.750546</td>\n",
       "      <td>41.467058</td>\n",
       "      <td>11.007935</td>\n",
       "      <td>16121.183073</td>\n",
       "      <td>0.905609</td>\n",
       "      <td>1.516378</td>\n",
       "      <td>430.169145</td>\n",
       "    </tr>\n",
       "    <tr>\n",
       "      <th>min</th>\n",
       "      <td>5.300000e+01</td>\n",
       "      <td>1.000000</td>\n",
       "      <td>-157.948486</td>\n",
       "      <td>-41.330428</td>\n",
       "      <td>0.000000</td>\n",
       "      <td>1.000000</td>\n",
       "      <td>0.000000</td>\n",
       "      <td>0.000000</td>\n",
       "    </tr>\n",
       "    <tr>\n",
       "      <th>25%</th>\n",
       "      <td>3.019625e+05</td>\n",
       "      <td>1.000000</td>\n",
       "      <td>77.081343</td>\n",
       "      <td>28.478713</td>\n",
       "      <td>250.000000</td>\n",
       "      <td>1.000000</td>\n",
       "      <td>2.500000</td>\n",
       "      <td>5.000000</td>\n",
       "    </tr>\n",
       "    <tr>\n",
       "      <th>50%</th>\n",
       "      <td>6.004089e+06</td>\n",
       "      <td>1.000000</td>\n",
       "      <td>77.191964</td>\n",
       "      <td>28.570469</td>\n",
       "      <td>400.000000</td>\n",
       "      <td>2.000000</td>\n",
       "      <td>3.200000</td>\n",
       "      <td>31.000000</td>\n",
       "    </tr>\n",
       "    <tr>\n",
       "      <th>75%</th>\n",
       "      <td>1.835229e+07</td>\n",
       "      <td>1.000000</td>\n",
       "      <td>77.282006</td>\n",
       "      <td>28.642758</td>\n",
       "      <td>700.000000</td>\n",
       "      <td>2.000000</td>\n",
       "      <td>3.700000</td>\n",
       "      <td>131.000000</td>\n",
       "    </tr>\n",
       "    <tr>\n",
       "      <th>max</th>\n",
       "      <td>1.850065e+07</td>\n",
       "      <td>216.000000</td>\n",
       "      <td>174.832089</td>\n",
       "      <td>55.976980</td>\n",
       "      <td>800000.000000</td>\n",
       "      <td>4.000000</td>\n",
       "      <td>4.900000</td>\n",
       "      <td>10934.000000</td>\n",
       "    </tr>\n",
       "  </tbody>\n",
       "</table>\n",
       "</div>"
      ],
      "text/plain": [
       "       Restaurant ID  Country Code    Longitude     Latitude  \\\n",
       "count   9.551000e+03   9551.000000  9551.000000  9551.000000   \n",
       "mean    9.051128e+06     18.365616    64.126574    25.854381   \n",
       "std     8.791521e+06     56.750546    41.467058    11.007935   \n",
       "min     5.300000e+01      1.000000  -157.948486   -41.330428   \n",
       "25%     3.019625e+05      1.000000    77.081343    28.478713   \n",
       "50%     6.004089e+06      1.000000    77.191964    28.570469   \n",
       "75%     1.835229e+07      1.000000    77.282006    28.642758   \n",
       "max     1.850065e+07    216.000000   174.832089    55.976980   \n",
       "\n",
       "       Average Cost for two  Price range  Aggregate rating         Votes  \n",
       "count           9551.000000  9551.000000       9551.000000   9551.000000  \n",
       "mean            1199.210763     1.804837          2.666370    156.909748  \n",
       "std            16121.183073     0.905609          1.516378    430.169145  \n",
       "min                0.000000     1.000000          0.000000      0.000000  \n",
       "25%              250.000000     1.000000          2.500000      5.000000  \n",
       "50%              400.000000     2.000000          3.200000     31.000000  \n",
       "75%              700.000000     2.000000          3.700000    131.000000  \n",
       "max           800000.000000     4.000000          4.900000  10934.000000  "
      ]
     },
     "execution_count": 5,
     "metadata": {},
     "output_type": "execute_result"
    }
   ],
   "source": [
    "df.describe()"
   ]
  },
  {
   "cell_type": "code",
   "execution_count": 6,
   "id": "0b3f6fcd",
   "metadata": {},
   "outputs": [
    {
     "name": "stdout",
     "output_type": "stream",
     "text": [
      "<class 'pandas.core.frame.DataFrame'>\n",
      "RangeIndex: 9551 entries, 0 to 9550\n",
      "Data columns (total 21 columns):\n",
      " #   Column                Non-Null Count  Dtype  \n",
      "---  ------                --------------  -----  \n",
      " 0   Restaurant ID         9551 non-null   int64  \n",
      " 1   Restaurant Name       9551 non-null   object \n",
      " 2   Country Code          9551 non-null   int64  \n",
      " 3   City                  9551 non-null   object \n",
      " 4   Address               9551 non-null   object \n",
      " 5   Locality              9551 non-null   object \n",
      " 6   Locality Verbose      9551 non-null   object \n",
      " 7   Longitude             9551 non-null   float64\n",
      " 8   Latitude              9551 non-null   float64\n",
      " 9   Cuisines              9542 non-null   object \n",
      " 10  Average Cost for two  9551 non-null   int64  \n",
      " 11  Currency              9551 non-null   object \n",
      " 12  Has Table booking     9551 non-null   object \n",
      " 13  Has Online delivery   9551 non-null   object \n",
      " 14  Is delivering now     9551 non-null   object \n",
      " 15  Switch to order menu  9551 non-null   object \n",
      " 16  Price range           9551 non-null   int64  \n",
      " 17  Aggregate rating      9551 non-null   float64\n",
      " 18  Rating color          9551 non-null   object \n",
      " 19  Rating text           9551 non-null   object \n",
      " 20  Votes                 9551 non-null   int64  \n",
      "dtypes: float64(3), int64(5), object(13)\n",
      "memory usage: 1.5+ MB\n"
     ]
    }
   ],
   "source": [
    "df.info()"
   ]
  },
  {
   "cell_type": "markdown",
   "id": "bf6c9474",
   "metadata": {},
   "source": [
    "## identify the number of rows and columns:"
   ]
  },
  {
   "cell_type": "code",
   "execution_count": 41,
   "id": "e0e02112",
   "metadata": {},
   "outputs": [
    {
     "name": "stdout",
     "output_type": "stream",
     "text": [
      "Number of rows; 9551\n",
      "number of columns, 21\n"
     ]
    }
   ],
   "source": [
    "print('Number of rows;' , df.shape[0])\n",
    "print('number of columns,',df.shape[1])"
   ]
  },
  {
   "attachments": {},
   "cell_type": "markdown",
   "id": "f95bc3fa",
   "metadata": {},
   "source": [
    "# Level 1. \n",
    "# Task 1.\n"
   ]
  },
  {
   "cell_type": "markdown",
   "id": "0d93eedd",
   "metadata": {},
   "source": [
    "## Determine the top three most common cuisines in the dataset."
   ]
  },
  {
   "cell_type": "code",
   "execution_count": 7,
   "id": "23764273",
   "metadata": {},
   "outputs": [
    {
     "data": {
      "text/plain": [
       "0             French, Japanese, Desserts\n",
       "1                               Japanese\n",
       "2       Seafood, Asian, Filipino, Indian\n",
       "3                        Japanese, Sushi\n",
       "4                       Japanese, Korean\n",
       "                      ...               \n",
       "9546                             Turkish\n",
       "9547     World Cuisine, Patisserie, Cafe\n",
       "9548              Italian, World Cuisine\n",
       "9549                     Restaurant Cafe\n",
       "9550                                Cafe\n",
       "Name: Cuisines, Length: 9551, dtype: object"
      ]
     },
     "execution_count": 7,
     "metadata": {},
     "output_type": "execute_result"
    }
   ],
   "source": [
    "df['Cuisines'] = df['Cuisines'].astype(str)\n",
    "df['Cuisines']"
   ]
  },
  {
   "cell_type": "code",
   "execution_count": 8,
   "id": "84a0d826",
   "metadata": {},
   "outputs": [],
   "source": [
    "# Split the 'Cuisines' column and explode it to get each cuisine in a separate row\n",
    "cuisines_split = df['Cuisines'].str.split(', ')\n",
    "cuisines_exploded = cuisines_split.explode()\n"
   ]
  },
  {
   "cell_type": "code",
   "execution_count": 9,
   "id": "82d88b6c",
   "metadata": {},
   "outputs": [],
   "source": [
    "# Count the frequency of each cuisine\n",
    "cuisine_counts = cuisines_exploded.value_counts()"
   ]
  },
  {
   "cell_type": "code",
   "execution_count": 10,
   "id": "d2da124e",
   "metadata": {},
   "outputs": [
    {
     "name": "stdout",
     "output_type": "stream",
     "text": [
      "Top three most common cuisines:\n",
      "Cuisines\n",
      "North Indian    3960\n",
      "Chinese         2735\n",
      "Fast Food       1986\n",
      "Name: count, dtype: int64\n"
     ]
    }
   ],
   "source": [
    "top_three_cuisines = cuisine_counts.head(3)\n",
    "\n",
    "print(\"Top three most common cuisines:\")\n",
    "print(top_three_cuisines)"
   ]
  },
  {
   "cell_type": "markdown",
   "id": "46560058",
   "metadata": {},
   "source": [
    "## Calculate the percentage of restaurants serving each top cuisine"
   ]
  },
  {
   "cell_type": "code",
   "execution_count": 11,
   "id": "88037642",
   "metadata": {},
   "outputs": [
    {
     "name": "stdout",
     "output_type": "stream",
     "text": [
      "Percentage of restaurants that serve each of the top cuisines:\n",
      "Cuisines\n",
      "North Indian    41.461627\n",
      "Chinese         28.635745\n",
      "Fast Food       20.793634\n",
      "Name: count, dtype: float64\n"
     ]
    }
   ],
   "source": [
    "top_cuisines = cuisine_counts.head(3)\n",
    "total_restaurants = df.shape[0]\n",
    "top_cuisines_percentage = (top_cuisines / total_restaurants) * 100\n",
    "\n",
    "print(\"Percentage of restaurants that serve each of the top cuisines:\")\n",
    "print(top_cuisines_percentage)"
   ]
  },
  {
   "attachments": {},
   "cell_type": "markdown",
   "id": "6a0a5ab0",
   "metadata": {},
   "source": [
    "# Task 2.\n",
    "\n"
   ]
  },
  {
   "cell_type": "markdown",
   "id": "61f48669",
   "metadata": {},
   "source": [
    "## Identify the city with the highest number of restaurants in the dataset."
   ]
  },
  {
   "cell_type": "code",
   "execution_count": 12,
   "id": "902a02a0",
   "metadata": {},
   "outputs": [
    {
     "name": "stdout",
     "output_type": "stream",
     "text": [
      "The city with the highest number of restaurants is New Delhi with 5473 restaurants.\n"
     ]
    }
   ],
   "source": [
    "city_counts = df['City'].value_counts()\n",
    "\n",
    "city_with_most_restaurants = city_counts.idxmax()\n",
    "highest_restaurant_count = city_counts.max()\n",
    "\n",
    "print(f\"The city with the highest number of restaurants is {city_with_most_restaurants} with {highest_restaurant_count} restaurants.\")"
   ]
  },
  {
   "cell_type": "markdown",
   "id": "8318f800",
   "metadata": {},
   "source": [
    "## Calculate the average rating for restaurants in each city."
   ]
  },
  {
   "cell_type": "code",
   "execution_count": 13,
   "id": "96ebebc1",
   "metadata": {},
   "outputs": [
    {
     "name": "stdout",
     "output_type": "stream",
     "text": [
      "Average rating for restaurants in each city:\n",
      "City\n",
      "Inner City          4.900000\n",
      "Quezon City         4.800000\n",
      "Makati City         4.650000\n",
      "Pasig City          4.633333\n",
      "Mandaluyong City    4.625000\n",
      "                      ...   \n",
      "New Delhi           2.438845\n",
      "Montville           2.400000\n",
      "Mc Millan           2.400000\n",
      "Noida               2.036204\n",
      "Faridabad           1.866932\n",
      "Name: Aggregate rating, Length: 141, dtype: float64\n"
     ]
    }
   ],
   "source": [
    "df['Aggregate rating'] = pd.to_numeric(df['Aggregate rating'],) \n",
    "                                       \n",
    "city_average_ratings = df.groupby('City')['Aggregate rating'].mean().sort_values(ascending=False)\n",
    "\n",
    "print(\"Average rating for restaurants in each city:\")\n",
    "print(city_average_ratings)"
   ]
  },
  {
   "cell_type": "markdown",
   "id": "0f748072",
   "metadata": {},
   "source": [
    "## Determine the city with the highest average rating."
   ]
  },
  {
   "cell_type": "code",
   "execution_count": 14,
   "id": "a2fc1d08",
   "metadata": {},
   "outputs": [
    {
     "name": "stdout",
     "output_type": "stream",
     "text": [
      "The city with the highest average rating is Inner City with an average rating of 4.90.\n"
     ]
    }
   ],
   "source": [
    "city_with_highest_avg_rating = city_average_ratings.idxmax()\n",
    "highest_avg_rating = city_average_ratings.max()\n",
    "\n",
    "print(f\"The city with the highest average rating is {city_with_highest_avg_rating} with an average rating of {highest_avg_rating:.2f}.\")"
   ]
  },
  {
   "attachments": {},
   "cell_type": "markdown",
   "id": "a6ff4536",
   "metadata": {},
   "source": [
    "# Task 3.\n"
   ]
  },
  {
   "cell_type": "markdown",
   "id": "1b8f6b88",
   "metadata": {},
   "source": [
    "## Create a histogram or bar chart to visualize the distribution of price ranges among the restaurants."
   ]
  },
  {
   "cell_type": "code",
   "execution_count": 15,
   "id": "1a54dbbd",
   "metadata": {},
   "outputs": [
    {
     "data": {
      "image/png": "[encoded data removed]",
      "text/plain": [
       "<Figure size 600x600 with 1 Axes>"
      ]
     },
     "metadata": {},
     "output_type": "display_data"
    }
   ],
   "source": [
    "# bar chart\n",
    "df['Price range'] = pd.to_numeric(df['Price range'])\n",
    "plt.figure(figsize=(6, 6))\n",
    "sns.countplot(x='Price range', data=df, palette='viridis')\n",
    "plt.title('Distribution of Price Ranges Among Restaurants')\n",
    "plt.xlabel('Price Range')\n",
    "plt.ylabel('Number of Restaurants')\n",
    "plt.xticks([0, 1, 2, 3, 4], ['Not specified', 'Low', 'Medium', 'High', 'Very High' ])\n",
    "plt.show()"
   ]
  },
  {
   "cell_type": "markdown",
   "id": "260926eb",
   "metadata": {},
   "source": [
    "## Calculate the percentage of restaurants in each price range category."
   ]
  },
  {
   "cell_type": "code",
   "execution_count": 16,
   "id": "4c69337b",
   "metadata": {},
   "outputs": [
    {
     "data": {
      "image/png": "[encoded data removed]",
      "text/plain": [
       "<Figure size 640x480 with 1 Axes>"
      ]
     },
     "metadata": {},
     "output_type": "display_data"
    }
   ],
   "source": [
    "# bar chart\n",
    "price_range_counts = df['Price range'].value_counts(normalize=True) * 100\n",
    "bars = price_range_counts.plot(kind='bar', color='m')\n",
    "plt.title('Percentage of Restaurants in Each Price Range Category')\n",
    "plt.xlabel('Price Range')\n",
    "plt.ylabel('Percentage')\n",
    "plt.xticks(rotation=0)\n",
    "plt.grid(axis='y', linestyle='--', alpha=0.7)\n",
    "for bar in bars.patches:\n",
    "    height = bar.get_height()\n",
    "    plt.text(bar.get_x() + bar.get_width() / 2, height + 0.5, f'{height:.2f}%', ha='center')\n",
    "plt.tight_layout()"
   ]
  },
  {
   "attachments": {},
   "cell_type": "markdown",
   "id": "92886c4c",
   "metadata": {},
   "source": [
    "# Task 4."
   ]
  },
  {
   "cell_type": "markdown",
   "id": "80139a3d",
   "metadata": {},
   "source": [
    "### Determine the percentage of restaurants that offer online delivery."
   ]
  },
  {
   "cell_type": "code",
   "execution_count": 17,
   "id": "459e3fba",
   "metadata": {},
   "outputs": [
    {
     "name": "stdout",
     "output_type": "stream",
     "text": [
      "Percentage of restaurants that offer online delivery: 0.00%\n"
     ]
    }
   ],
   "source": [
    "df['Has Online delivery'] = pd.to_numeric(df['Has Online delivery'], errors='coerce')\n",
    "online_delivery_count = df['Has Online delivery'].sum()\n",
    "total_restaurants = df.shape[0]\n",
    "percentage_online_delivery = (online_delivery_count / total_restaurants) * 100\n",
    "print(f\"Percentage of restaurants that offer online delivery: {percentage_online_delivery:.2f}%\")"
   ]
  },
  {
   "cell_type": "markdown",
   "id": "a812f468",
   "metadata": {},
   "source": [
    "### Compare the average ratings of restaurants with and without online delivery."
   ]
  },
  {
   "cell_type": "code",
   "execution_count": 18,
   "id": "e064c16f",
   "metadata": {},
   "outputs": [
    {
     "name": "stdout",
     "output_type": "stream",
     "text": [
      "Average rating of restaurants with online delivery: nan\n",
      "Average rating of restaurants without online delivery: nan\n"
     ]
    }
   ],
   "source": [
    "with_delivery = df[df['Has Online delivery'] == 'Yes']\n",
    "without_delivery = df[df['Has Online delivery'] == 'No']\n",
    "\n",
    "avg_rating_with_delivery = with_delivery['Aggregate rating'].mean()\n",
    "avg_rating_without_delivery = without_delivery['Aggregate rating'].mean()\n",
    "\n",
    "print(\"Average rating of restaurants with online delivery:\", avg_rating_with_delivery)\n",
    "print(\"Average rating of restaurants without online delivery:\", avg_rating_without_delivery)"
   ]
  },
  {
   "cell_type": "markdown",
   "id": "0eaca066",
   "metadata": {},
   "source": [
    "# Level 2.\n",
    "# Task 1.\n",
    "## Analyze the distribution of aggregate ratings and determine the most common rating range."
   ]
  },
  {
   "cell_type": "code",
   "execution_count": 19,
   "id": "a90d050a",
   "metadata": {},
   "outputs": [
    {
     "name": "stdout",
     "output_type": "stream",
     "text": [
      "Most common rating range : 0.0\n"
     ]
    },
    {
     "data": {
      "image/png": "[encoded data removed]",
      "text/plain": [
       "<Figure size 800x600 with 1 Axes>"
      ]
     },
     "metadata": {},
     "output_type": "display_data"
    }
   ],
   "source": [
    "aggregate_rating = df['Aggregate rating']\n",
    "rating_counts = aggregate_rating.value_counts().sort_index()\n",
    "\n",
    "# the most common rating range\n",
    "most_common_rating_range = rating_counts.idxmax()\n",
    "print('Most common rating range :',most_common_rating_range)\n",
    "\n",
    "# Plot the distribution of aggregate ratings\n",
    "plt.figure(figsize=(8, 6))\n",
    "plt.hist(aggregate_rating , bins=20 )\n",
    "plt.title('Distribution of Aggregate Ratings')\n",
    "plt.xlabel('Aggregate Rating')\n",
    "plt.ylabel('Frequency')\n",
    "plt.show()\n",
    "\n"
   ]
  },
  {
   "cell_type": "markdown",
   "id": "16ddf9ee",
   "metadata": {},
   "source": [
    "## Calculate the average number of votes received by restaurants.\n"
   ]
  },
  {
   "cell_type": "code",
   "execution_count": 20,
   "id": "4ab39a52",
   "metadata": {},
   "outputs": [
    {
     "name": "stdout",
     "output_type": "stream",
     "text": [
      "Average number of votes received by restaurents : 156.909747670401\n"
     ]
    }
   ],
   "source": [
    "average_votes = df['Votes'].mean()\n",
    "print(\"Average number of votes received by restaurents :\", average_votes)"
   ]
  },
  {
   "cell_type": "markdown",
   "id": "ab7a6ccf",
   "metadata": {},
   "source": [
    "# Task 2.\n",
    "## Identify the most common combinations of cuisines in the dataset.\n"
   ]
  },
  {
   "cell_type": "code",
   "execution_count": 21,
   "id": "d6bb20b1",
   "metadata": {},
   "outputs": [
    {
     "name": "stdout",
     "output_type": "stream",
     "text": [
      "Most common cuisine combinations:\n",
      "Cuisines\n",
      "North Indian                      936\n",
      "North Indian, Chinese             511\n",
      "Chinese                           354\n",
      "Fast Food                         354\n",
      "North Indian, Mughlai             334\n",
      "Cafe                              299\n",
      "Bakery                            218\n",
      "North Indian, Mughlai, Chinese    197\n",
      "Bakery, Desserts                  170\n",
      "Street Food                       149\n",
      "Name: count, dtype: int64\n"
     ]
    }
   ],
   "source": [
    "Cuisines = df['Cuisines']\n",
    "aggregate_rating = df['Aggregate rating']\n",
    "Cuisine_combinations_counts = Cuisines.value_counts()\n",
    "most_common_cuisine_combinations = Cuisine_combinations_counts.head(10)\n",
    "print('Most common cuisine combinations:')\n",
    "print(most_common_cuisine_combinations)"
   ]
  },
  {
   "cell_type": "markdown",
   "id": "6a59ef6c",
   "metadata": {},
   "source": [
    "## Determine if certain cuisine combinations tend to have higher ratings.\n"
   ]
  },
  {
   "cell_type": "code",
   "execution_count": 22,
   "id": "97594c43",
   "metadata": {},
   "outputs": [
    {
     "name": "stdout",
     "output_type": "stream",
     "text": [
      "\n",
      "Average rating for the top 10 cuisine combinations:\n",
      "Cuisines\n",
      "American, BBQ, Sandwich         4.9\n",
      "American, Burger, Grill         4.9\n",
      "American, Caribbean, Seafood    4.9\n",
      "American, Coffee and Tea        4.9\n",
      "American, Sandwich, Tea         4.9\n",
      "BBQ, Breakfast, Southern        4.9\n",
      "Burger, Bar Food, Steak         4.9\n",
      "Continental, Indian             4.9\n",
      "European, Asian, Indian         4.9\n",
      "European, Contemporary          4.9\n",
      "Name: Aggregate rating, dtype: float64\n"
     ]
    }
   ],
   "source": [
    "cuisne_combinations_avg_rating = df.groupby('Cuisines')['Aggregate rating'].mean()\n",
    "top_10_avg_ratings = cuisne_combinations_avg_rating.nlargest(10)\n",
    "print('\\nAverage rating for the top 10 cuisine combinations:')\n",
    "print(top_10_avg_ratings)\n",
    "                                    "
   ]
  },
  {
   "cell_type": "markdown",
   "id": "6877a3e3",
   "metadata": {},
   "source": [
    "## Plot the locations of restaurants on a map using longitude and latitude coordinates.\n"
   ]
  },
  {
   "cell_type": "code",
   "execution_count": null,
   "id": "60d80cd4",
   "metadata": {},
   "outputs": [],
   "source": [
    "import folium\n",
    "map_center = [df['Latitude'].mean(), df['Longitude'].mean()]\n",
    "restaurant_map = folium.Map(location=map_center, zoom_start=12)\n",
    "\n",
    "# Add restaurant locations to the map\n",
    "for _, row in df.iterrows():\n",
    "    folium.Marker(\n",
    "        location=[row['Latitude'], row['Longitude']],\n",
    "        popup=row['Restaurant Name'],\n",
    "        tooltip=row['Restaurant Name']\n",
    "    ).add_to(restaurant_map)\n",
    "\n",
    "# Save the map to an HTML file\n",
    "restaurant_map.save(\"restaurant_map.html\")\n",
    "\n",
    "# Display the map\n",
    "restaurant_map"
   ]
  },
  {
   "cell_type": "markdown",
   "id": "af675318",
   "metadata": {},
   "source": [
    "## Identify any patterns or clusters of restaurants in specific areas.¶"
   ]
  },
  {
   "cell_type": "code",
   "execution_count": null,
   "id": "2971c30f",
   "metadata": {},
   "outputs": [],
   "source": [
    "from sklearn.cluster import DBSCAN\n",
    "import numpy as np\n",
    "coords = df[['Latitude', 'Longitude']].values\n",
    "\n",
    "# Apply DBSCAN clustering algorithm\n",
    "db = DBSCAN(eps=0.01, min_samples=5, metric='haversine').fit(np.radians(coords))\n",
    "\n",
    "# Add cluster labels to the dataframe\n",
    "df['Cluster'] = db.labels_\n",
    "\n",
    "# Initialize a folium map centered around a central point\n",
    "cluster_map = folium.Map(location=map_center, zoom_start=12)\n",
    "\n",
    "# Define a color palette\n",
    "colors = ['red', 'blue', 'green', 'purple', 'orange', 'darkred', 'lightred', 'beige', 'darkblue', 'darkgreen', 'cadetblue', 'darkpurple', 'white', 'pink', 'lightblue', 'lightgreen', 'gray', 'black', 'lightgray']\n",
    "\n",
    "# Add restaurant locations to the map with cluster information\n",
    "for _, row in df.iterrows():\n",
    "    color = 'gray' if row['Cluster'] == -1 else colors[row['Cluster'] % len(colors)]\n",
    "    folium.Marker(\n",
    "        location=[row['Latitude'], row['Longitude']],\n",
    "        popup=f\"{row['Restaurant Name']} (Cluster {row['Cluster']})\",\n",
    "        tooltip=row['Restaurant Name'],\n",
    "        icon=folium.Icon(color=color)\n",
    "    ).add_to(cluster_map)\n",
    "\n",
    "# Save the clustered map to an HTML file\n",
    "cluster_map.save(\"clustered_restaurant_map.html\")\n",
    "\n",
    "# Display the map\n",
    "cluster_map"
   ]
  },
  {
   "cell_type": "markdown",
   "id": "2d366e00",
   "metadata": {},
   "source": [
    "# Task 4.\n",
    "## Identify if there are any restaurant chains present in the dataset.\n"
   ]
  },
  {
   "cell_type": "code",
   "execution_count": 23,
   "id": "03c20728",
   "metadata": {},
   "outputs": [
    {
     "name": "stdout",
     "output_type": "stream",
     "text": [
      "Potential Restaurant Chains:\n",
      "           Restaurant Name       City  Count\n",
      "28      221 B Baker Street      Noida      3\n",
      "45      34 Parkstreet Lane  New Delhi      2\n",
      "46    34, Chowringhee Lane  New Delhi     12\n",
      "60          4700BC Popcorn  New Delhi      2\n",
      "70            6 Pack Momos  New Delhi      2\n",
      "...                    ...        ...    ...\n",
      "7897       Zaaika Junction  New Delhi      2\n",
      "7900               Zaffran  New Delhi      2\n",
      "7906                 Zaika  New Delhi      2\n",
      "7907                 Zaika      Noida      2\n",
      "7960                bu��no    Gurgaon      2\n",
      "\n",
      "[643 rows x 3 columns]\n"
     ]
    }
   ],
   "source": [
    "restaurant_chain_counts = df.groupby(['Restaurant Name', 'City']).size().reset_index(name='Count')\n",
    "\n",
    "# Filter out restaurants that appear in more than one location (potential chains)\n",
    "potential_chains = restaurant_chain_counts[restaurant_chain_counts['Count'] > 1]\n",
    "\n",
    "# Display the potential chains\n",
    "print('Potential Restaurant Chains:')\n",
    "print(potential_chains[['Restaurant Name', 'City', 'Count']])"
   ]
  },
  {
   "cell_type": "markdown",
   "id": "f96de7f9",
   "metadata": {},
   "source": [
    "## Analyze the ratings and popularity of different restaurant chains."
   ]
  },
  {
   "cell_type": "code",
   "execution_count": 40,
   "id": "9811284e",
   "metadata": {},
   "outputs": [
    {
     "name": "stdout",
     "output_type": "stream",
     "text": [
      "Top Restaurant Chains by Average Rating:\n",
      "               Restaurant Name  Average_Rating  Total_Votes\n",
      "629           Talaga Sampireun           4.900         5514\n",
      "589           Silantro Fil-Mex           4.850         1364\n",
      "8      AB's Absolute Barbecues           4.850         3151\n",
      "7    AB's - Absolute Barbecues           4.825        13400\n",
      "449         Naturals Ice Cream           4.800         3094\n",
      "293                   Gymkhana           4.700          328\n",
      "653     The Cheesecake Factory           4.650         3010\n",
      "218                    Dishoom           4.600         1269\n",
      "267          Garota de Ipanema           4.600           59\n",
      "163                    Chili's           4.580         8156\n",
      "\n",
      "Top Restaurant Chains by Popularity (Total Votes):\n",
      "               Restaurant Name  Average_Rating  Total_Votes\n",
      "62             Barbeque Nation        4.353846        28142\n",
      "7    AB's - Absolute Barbecues        4.825000        13400\n",
      "79                   Big Chill        4.475000        10853\n",
      "239                 Farzi Cafe        4.366667        10098\n",
      "692                   Truffles        3.950000         9682\n",
      "163                    Chili's        4.580000         8156\n",
      "338               Joey's Pizza        4.250000         7807\n",
      "83             Big Yellow Door        4.266667         7511\n",
      "568            Saravana Bhavan        4.133333         7238\n",
      "614                  Starbucks        3.805556         7139\n"
     ]
    }
   ],
   "source": [
    "restaurant_chain_counts = df['Restaurant Name'].value_counts().reset_index()\n",
    "restaurant_chain_counts.columns = ['Restaurant Name', 'Count']\n",
    "\n",
    "potential_chains = restaurant_chain_counts[restaurant_chain_counts['Count'] > 1]['Restaurant Name']\n",
    "\n",
    "chains_df = df[df['Restaurant Name'].isin(potential_chains)]\n",
    "\n",
    "chain_stats = chains_df.groupby('Restaurant Name').agg(\n",
    "    Average_Rating=('Aggregate rating', 'mean'),\n",
    "    Total_Votes=('Votes', 'sum')\n",
    ").reset_index()\n",
    "\n",
    "sorted_by_rating = chain_stats.sort_values(by='Average_Rating', ascending=False)\n",
    "sorted_by_popularity = chain_stats.sort_values(by='Total_Votes', ascending=False)\n",
    "\n",
    "print(\"Top Restaurant Chains by Average Rating:\")\n",
    "print(sorted_by_rating.head(10))\n",
    "\n",
    "print(\"\\nTop Restaurant Chains by Popularity (Total Votes):\")\n",
    "print(sorted_by_popularity.head(10))"
   ]
  },
  {
   "cell_type": "markdown",
   "id": "4ef8ddc9",
   "metadata": {},
   "source": [
    "# Level 3.\n",
    "# Task 1.\n",
    "## Analyze the text reviews to identify the most common positive and negative keywords."
   ]
  },
  {
   "cell_type": "code",
   "execution_count": 25,
   "id": "078d3755",
   "metadata": {},
   "outputs": [
    {
     "data": {
      "text/plain": [
       "Rating text\n",
       "Average      3737\n",
       "Not rated    2148\n",
       "Good         2100\n",
       "Very Good    1079\n",
       "Excellent     301\n",
       "Poor          186\n",
       "Name: count, dtype: int64"
      ]
     },
     "execution_count": 25,
     "metadata": {},
     "output_type": "execute_result"
    }
   ],
   "source": [
    "review_data = df['Rating text'].value_counts()\n",
    "review_data"
   ]
  },
  {
   "cell_type": "code",
   "execution_count": 26,
   "id": "7608ca0d",
   "metadata": {},
   "outputs": [
    {
     "data": {
      "image/png": "[encoded data removed]",
      "text/plain": [
       "<Figure size 640x480 with 1 Axes>"
      ]
     },
     "metadata": {},
     "output_type": "display_data"
    }
   ],
   "source": [
    "plt.pie(review_data.values, labels=review_data.index, autopct = '%.1f%%', radius = 1)\n",
    "plt.show()"
   ]
  },
  {
   "cell_type": "markdown",
   "id": "a6106044",
   "metadata": {},
   "source": [
    "## Calculate the average length of reviews and explore if there is a relationship between review length and rating.\n"
   ]
  },
  {
   "cell_type": "code",
   "execution_count": 27,
   "id": "e72d142a",
   "metadata": {},
   "outputs": [],
   "source": [
    "reviews = df['Rating text']\n",
    "total_reviews = len(reviews)\n",
    "total_review_length = 0"
   ]
  },
  {
   "cell_type": "code",
   "execution_count": 28,
   "id": "3b5fdbb1",
   "metadata": {},
   "outputs": [
    {
     "name": "stdout",
     "output_type": "stream",
     "text": [
      "Average review length: 1.34\n"
     ]
    }
   ],
   "source": [
    "for review in reviews:\n",
    "    total_review_length += len(review.split())\n",
    "    \n",
    "avg_review_length = total_review_length / total_reviews\n",
    "\n",
    "print('Average review length:', round(avg_review_length,2))    "
   ]
  },
  {
   "cell_type": "code",
   "execution_count": 29,
   "id": "5b3c7c67",
   "metadata": {},
   "outputs": [
    {
     "name": "stdout",
     "output_type": "stream",
     "text": [
      "Rating v/s Avearge review length\n",
      "{4.8: 0.0026175269605276936, 4.5: 0.009946602450005235, 4.4: 0.03015391058527903, 4.9: 0.006386765783687572, 4.0: 0.055700973720029315, 4.2: 0.04627787666212962, 4.3: 0.03643597529054549, 3.6: 0.04795309391686734, 4.7: 0.004397445293686525, 3.0: 0.04900010470107842, 3.8: 0.0418804313684431, 3.7: 0.044707360485813, 3.2: 0.054653962935818236, 3.1: 0.05433985970055492, 0.0: 0.44979583289707886, 4.1: 0.05737619097476704, 3.3: 0.050570620877395035, 4.6: 0.008166684116846403, 3.9: 0.035074861271071095, 3.4: 0.05214113705371165, 3.5: 0.050256517642131716, 2.2: 0.002826929117369909, 2.9: 0.03989111087844205, 2.4: 0.009108993822636373, 2.6: 0.01999790597843158, 2.8: 0.03298083970264894, 2.1: 0.0015705161763166161, 2.7: 0.026175269605276934, 2.5: 0.011517118626321852, 1.8: 0.00010470107842110774, 2.0: 0.0007329075489477542, 2.3: 0.004920950685792064, 1.9: 0.00020940215684221548}\n"
     ]
    }
   ],
   "source": [
    "review_len_vs_rating = {}\n",
    "\n",
    "for rating in df['Aggregate rating'].unique():\n",
    "    filtered_reviews = df.loc[df['Aggregate rating'] == rating][\"Rating text\"]\n",
    "    total_length = 0\n",
    "    total_review = len(filtered_reviews)\n",
    "    \n",
    "    for review in filtered_reviews:\n",
    "        total_length+= len(review.split())\n",
    "        \n",
    "        average_length = total_length / total_reviews\n",
    "        review_len_vs_rating[rating] = average_length\n",
    "print('Rating v/s Avearge review length')\n",
    "print(review_len_vs_rating)\n"
   ]
  },
  {
   "cell_type": "code",
   "execution_count": 30,
   "id": "78cf2221",
   "metadata": {},
   "outputs": [
    {
     "data": {
      "text/html": [
       "<div>\n",
       "<style scoped>\n",
       "    .dataframe tbody tr th:only-of-type {\n",
       "        vertical-align: middle;\n",
       "    }\n",
       "\n",
       "    .dataframe tbody tr th {\n",
       "        vertical-align: top;\n",
       "    }\n",
       "\n",
       "    .dataframe thead th {\n",
       "        text-align: right;\n",
       "    }\n",
       "</style>\n",
       "<table border=\"1\" class=\"dataframe\">\n",
       "  <thead>\n",
       "    <tr style=\"text-align: right;\">\n",
       "      <th></th>\n",
       "      <th>rating</th>\n",
       "      <th>avg_review_len</th>\n",
       "    </tr>\n",
       "  </thead>\n",
       "  <tbody>\n",
       "    <tr>\n",
       "      <th>0</th>\n",
       "      <td>4.8</td>\n",
       "      <td>0.002618</td>\n",
       "    </tr>\n",
       "    <tr>\n",
       "      <th>1</th>\n",
       "      <td>4.5</td>\n",
       "      <td>0.009947</td>\n",
       "    </tr>\n",
       "    <tr>\n",
       "      <th>2</th>\n",
       "      <td>4.4</td>\n",
       "      <td>0.030154</td>\n",
       "    </tr>\n",
       "    <tr>\n",
       "      <th>3</th>\n",
       "      <td>4.9</td>\n",
       "      <td>0.006387</td>\n",
       "    </tr>\n",
       "    <tr>\n",
       "      <th>4</th>\n",
       "      <td>4.0</td>\n",
       "      <td>0.055701</td>\n",
       "    </tr>\n",
       "    <tr>\n",
       "      <th>5</th>\n",
       "      <td>4.2</td>\n",
       "      <td>0.046278</td>\n",
       "    </tr>\n",
       "    <tr>\n",
       "      <th>6</th>\n",
       "      <td>4.3</td>\n",
       "      <td>0.036436</td>\n",
       "    </tr>\n",
       "    <tr>\n",
       "      <th>7</th>\n",
       "      <td>3.6</td>\n",
       "      <td>0.047953</td>\n",
       "    </tr>\n",
       "    <tr>\n",
       "      <th>8</th>\n",
       "      <td>4.7</td>\n",
       "      <td>0.004397</td>\n",
       "    </tr>\n",
       "    <tr>\n",
       "      <th>9</th>\n",
       "      <td>3.0</td>\n",
       "      <td>0.049000</td>\n",
       "    </tr>\n",
       "    <tr>\n",
       "      <th>10</th>\n",
       "      <td>3.8</td>\n",
       "      <td>0.041880</td>\n",
       "    </tr>\n",
       "    <tr>\n",
       "      <th>11</th>\n",
       "      <td>3.7</td>\n",
       "      <td>0.044707</td>\n",
       "    </tr>\n",
       "    <tr>\n",
       "      <th>12</th>\n",
       "      <td>3.2</td>\n",
       "      <td>0.054654</td>\n",
       "    </tr>\n",
       "    <tr>\n",
       "      <th>13</th>\n",
       "      <td>3.1</td>\n",
       "      <td>0.054340</td>\n",
       "    </tr>\n",
       "    <tr>\n",
       "      <th>14</th>\n",
       "      <td>0.0</td>\n",
       "      <td>0.449796</td>\n",
       "    </tr>\n",
       "    <tr>\n",
       "      <th>15</th>\n",
       "      <td>4.1</td>\n",
       "      <td>0.057376</td>\n",
       "    </tr>\n",
       "    <tr>\n",
       "      <th>16</th>\n",
       "      <td>3.3</td>\n",
       "      <td>0.050571</td>\n",
       "    </tr>\n",
       "    <tr>\n",
       "      <th>17</th>\n",
       "      <td>4.6</td>\n",
       "      <td>0.008167</td>\n",
       "    </tr>\n",
       "    <tr>\n",
       "      <th>18</th>\n",
       "      <td>3.9</td>\n",
       "      <td>0.035075</td>\n",
       "    </tr>\n",
       "    <tr>\n",
       "      <th>19</th>\n",
       "      <td>3.4</td>\n",
       "      <td>0.052141</td>\n",
       "    </tr>\n",
       "    <tr>\n",
       "      <th>20</th>\n",
       "      <td>3.5</td>\n",
       "      <td>0.050257</td>\n",
       "    </tr>\n",
       "    <tr>\n",
       "      <th>21</th>\n",
       "      <td>2.2</td>\n",
       "      <td>0.002827</td>\n",
       "    </tr>\n",
       "    <tr>\n",
       "      <th>22</th>\n",
       "      <td>2.9</td>\n",
       "      <td>0.039891</td>\n",
       "    </tr>\n",
       "    <tr>\n",
       "      <th>23</th>\n",
       "      <td>2.4</td>\n",
       "      <td>0.009109</td>\n",
       "    </tr>\n",
       "    <tr>\n",
       "      <th>24</th>\n",
       "      <td>2.6</td>\n",
       "      <td>0.019998</td>\n",
       "    </tr>\n",
       "    <tr>\n",
       "      <th>25</th>\n",
       "      <td>2.8</td>\n",
       "      <td>0.032981</td>\n",
       "    </tr>\n",
       "    <tr>\n",
       "      <th>26</th>\n",
       "      <td>2.1</td>\n",
       "      <td>0.001571</td>\n",
       "    </tr>\n",
       "    <tr>\n",
       "      <th>27</th>\n",
       "      <td>2.7</td>\n",
       "      <td>0.026175</td>\n",
       "    </tr>\n",
       "    <tr>\n",
       "      <th>28</th>\n",
       "      <td>2.5</td>\n",
       "      <td>0.011517</td>\n",
       "    </tr>\n",
       "    <tr>\n",
       "      <th>29</th>\n",
       "      <td>1.8</td>\n",
       "      <td>0.000105</td>\n",
       "    </tr>\n",
       "    <tr>\n",
       "      <th>30</th>\n",
       "      <td>2.0</td>\n",
       "      <td>0.000733</td>\n",
       "    </tr>\n",
       "    <tr>\n",
       "      <th>31</th>\n",
       "      <td>2.3</td>\n",
       "      <td>0.004921</td>\n",
       "    </tr>\n",
       "    <tr>\n",
       "      <th>32</th>\n",
       "      <td>1.9</td>\n",
       "      <td>0.000209</td>\n",
       "    </tr>\n",
       "  </tbody>\n",
       "</table>\n",
       "</div>"
      ],
      "text/plain": [
       "    rating  avg_review_len\n",
       "0      4.8        0.002618\n",
       "1      4.5        0.009947\n",
       "2      4.4        0.030154\n",
       "3      4.9        0.006387\n",
       "4      4.0        0.055701\n",
       "5      4.2        0.046278\n",
       "6      4.3        0.036436\n",
       "7      3.6        0.047953\n",
       "8      4.7        0.004397\n",
       "9      3.0        0.049000\n",
       "10     3.8        0.041880\n",
       "11     3.7        0.044707\n",
       "12     3.2        0.054654\n",
       "13     3.1        0.054340\n",
       "14     0.0        0.449796\n",
       "15     4.1        0.057376\n",
       "16     3.3        0.050571\n",
       "17     4.6        0.008167\n",
       "18     3.9        0.035075\n",
       "19     3.4        0.052141\n",
       "20     3.5        0.050257\n",
       "21     2.2        0.002827\n",
       "22     2.9        0.039891\n",
       "23     2.4        0.009109\n",
       "24     2.6        0.019998\n",
       "25     2.8        0.032981\n",
       "26     2.1        0.001571\n",
       "27     2.7        0.026175\n",
       "28     2.5        0.011517\n",
       "29     1.8        0.000105\n",
       "30     2.0        0.000733\n",
       "31     2.3        0.004921\n",
       "32     1.9        0.000209"
      ]
     },
     "execution_count": 30,
     "metadata": {},
     "output_type": "execute_result"
    }
   ],
   "source": [
    "review_len_vs_rating = pd.DataFrame({'rating' : list(review_len_vs_rating.keys()),'avg_review_len': list(review_len_vs_rating.values())})\n",
    "review_len_vs_rating"
   ]
  },
  {
   "cell_type": "code",
   "execution_count": 31,
   "id": "63d42efd",
   "metadata": {},
   "outputs": [
    {
     "data": {
      "image/png": "[encoded data removed]",
      "text/plain": [
       "<Figure size 1200x300 with 1 Axes>"
      ]
     },
     "metadata": {},
     "output_type": "display_data"
    }
   ],
   "source": [
    "plt.figure(figsize=(12,3))\n",
    "sns.barplot(x = 'rating', y = 'avg_review_len', data = review_len_vs_rating)\n",
    "plt.title('Rating v/s Average review length')\n",
    "plt.xlabel('Rating')\n",
    "plt.ylabel('Average review length')\n",
    "plt.show()"
   ]
  },
  {
   "cell_type": "markdown",
   "id": "0aad33fc",
   "metadata": {},
   "source": [
    "# Task 2.\n",
    "## Identify the restaurants with the highest and lowest number of votes.\n"
   ]
  },
  {
   "cell_type": "code",
   "execution_count": 32,
   "id": "ef48481a",
   "metadata": {},
   "outputs": [
    {
     "name": "stdout",
     "output_type": "stream",
     "text": [
      "Restaurant with the highest number of votes:\n",
      "Restaurant Name     Toit\n",
      "Votes              10934\n",
      "Name: 728, dtype: object\n"
     ]
    }
   ],
   "source": [
    "restaurant_with_highest_votes = df.loc[df['Votes'].idxmax()]\n",
    "\n",
    "print(\"Restaurant with the highest number of votes:\")\n",
    "print(restaurant_with_highest_votes[['Restaurant Name', 'Votes']])"
   ]
  },
  {
   "cell_type": "code",
   "execution_count": 33,
   "id": "6b57efd4",
   "metadata": {},
   "outputs": [
    {
     "name": "stdout",
     "output_type": "stream",
     "text": [
      "Restaurant with the lowest number of votes:\n",
      "Restaurant Name    Cantinho da Gula\n",
      "Votes                             0\n",
      "Name: 69, dtype: object\n"
     ]
    }
   ],
   "source": [
    "restaurant_with_lowest_votes = df.loc[df['Votes'].idxmin()]\n",
    "\n",
    "print(\"Restaurant with the lowest number of votes:\")\n",
    "print(restaurant_with_lowest_votes[['Restaurant Name', 'Votes']])"
   ]
  },
  {
   "cell_type": "markdown",
   "id": "8d67cd4a",
   "metadata": {},
   "source": [
    "## Analyze if there is a correlation between the number of votes and the rating of a restaurant.\n"
   ]
  },
  {
   "cell_type": "code",
   "execution_count": 34,
   "id": "31a4bf1a",
   "metadata": {},
   "outputs": [
    {
     "name": "stdout",
     "output_type": "stream",
     "text": [
      "Correlation between the number of votes and the rating: 0.31\n"
     ]
    }
   ],
   "source": [
    "df['Votes'] = pd.to_numeric(df['Votes'], errors='coerce')\n",
    "df['Aggregate rating'] = pd.to_numeric(df['Aggregate rating'], errors='coerce')\n",
    "correlation = df['Votes'].corr(df['Aggregate rating'])\n",
    "print(f\"Correlation between the number of votes and the rating: {correlation:.2f}\")"
   ]
  },
  {
   "cell_type": "code",
   "execution_count": 35,
   "id": "3c8ef15f",
   "metadata": {},
   "outputs": [
    {
     "data": {
      "image/png": "[encoded data removed]",
      "text/plain": [
       "<Figure size 1000x600 with 1 Axes>"
      ]
     },
     "metadata": {},
     "output_type": "display_data"
    }
   ],
   "source": [
    "# Visualize the relationship using a scatter plot\n",
    "plt.figure(figsize=(10, 6))\n",
    "sns.regplot(x='Votes', y='Aggregate rating', data=df, scatter_kws={'s':10})\n",
    "plt.title('Correlation between Number of Votes and Rating of Restaurants')\n",
    "plt.xlabel('Number of Votes')\n",
    "plt.ylabel('Rating')\n",
    "plt.show()"
   ]
  },
  {
   "cell_type": "markdown",
   "id": "e4625db7",
   "metadata": {},
   "source": [
    "# Task 3.\n",
    "## Analyze if there is a relationship between the price range and the availability of online delivery and table booking.\n"
   ]
  },
  {
   "cell_type": "code",
   "execution_count": 36,
   "id": "95fc412a",
   "metadata": {},
   "outputs": [
    {
     "name": "stdout",
     "output_type": "stream",
     "text": [
      "Price Range Vs Online Delivery:\n",
      "Empty DataFrame\n",
      "Columns: []\n",
      "Index: []\n",
      "Price Range Vs Table Booking:\n",
      "Has Table booking        No       Yes\n",
      "Price range                          \n",
      "1                  0.999775  0.000225\n",
      "2                  0.923225  0.076775\n",
      "3                  0.542614  0.457386\n",
      "4                  0.532423  0.467577\n"
     ]
    }
   ],
   "source": [
    "# Group by 'Price range' and normalize the value counts of 'Has Online delivery'\n",
    "price_vs_online_delivery = df.groupby('Price range')['Has Online delivery'].value_counts(normalize=True).unstack().fillna(0)\n",
    "print('Price Range Vs Online Delivery:')\n",
    "print(price_vs_online_delivery)\n",
    "\n",
    "# Group by 'Price range' and normalize the value counts of 'Has Table booking'\n",
    "price_vs_table_booking = df.groupby('Price range')['Has Table booking'].value_counts(normalize=True).unstack().fillna(0)\n",
    "print('Price Range Vs Table Booking:')\n",
    "print(price_vs_table_booking)"
   ]
  },
  {
   "cell_type": "markdown",
   "id": "e9190038",
   "metadata": {},
   "source": [
    "## Determine if higher-priced restaurants are more likely to offer these services.\n"
   ]
  },
  {
   "cell_type": "code",
   "execution_count": 37,
   "id": "14321e3b",
   "metadata": {},
   "outputs": [
    {
     "name": "stdout",
     "output_type": "stream",
     "text": [
      "\n",
      "Higher Priced restaurants v/s Online Delivery:\n",
      "Series([], Name: proportion, dtype: float64)\n",
      "\n",
      "Higher Priced restaurants v/s Table Booking:\n",
      "Has Table booking\n",
      "No     0.539619\n",
      "Yes    0.460381\n",
      "Name: proportion, dtype: float64\n"
     ]
    }
   ],
   "source": [
    "higher_priced_restaurants = df.loc[df['Price range'] > df['Price range'].median()]\n",
    "higher_price_vs_online_delivery = higher_priced_restaurants['Has Online delivery'].value_counts(normalize=True)\n",
    "higher_price_vs_table_booking = higher_priced_restaurants['Has Table booking'].value_counts(normalize=True)\n",
    "\n",
    "print('\\nHigher Priced restaurants v/s Online Delivery:')\n",
    "print(higher_price_vs_online_delivery)\n",
    "\n",
    "print('\\nHigher Priced restaurants v/s Table Booking:')\n",
    "print(higher_price_vs_table_booking )\n"
   ]
  }
 ],
 "metadata": {
  "kernelspec": {
   "display_name": "Python 3 (ipykernel)",
   "language": "python",
   "name": "python3"
  },
  "language_info": {
   "codemirror_mode": {
    "name": "ipython",
    "version": 3
   },
   "file_extension": ".py",
   "mimetype": "text/x-python",
   "name": "python",
   "nbconvert_exporter": "python",
   "pygments_lexer": "ipython3",
   "version": "3.11.4"
  }
 },
 "nbformat": 4,
 "nbformat_minor": 5
}
